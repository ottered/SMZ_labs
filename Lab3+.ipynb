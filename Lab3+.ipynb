{
 "cells": [
  {
   "cell_type": "code",
   "execution_count": 2,
   "id": "dc8d5478",
   "metadata": {},
   "outputs": [],
   "source": [
    "import numpy as np\n",
    "\n",
    "def convTranspose(input, kernel, stride, padding, output_size):\n",
    "    input_height, input_width = input.shape\n",
    "    kernel_height, kernel_width = kernel.shape\n",
    "    output_height, output_width = output_size\n",
    "\n",
    "    output = np.zeros(output_size)\n",
    "\n",
    "    for i in range(output_height):\n",
    "        for j in range(output_width):\n",
    "            for k in range(kernel_height):\n",
    "                for l in range(kernel_width):\n",
    "                    row = i * stride + k - padding\n",
    "                    col = j * stride + l - padding\n",
    "\n",
    "                    if row >= 0 and row < input_height and col >= 0 and col < input_width:\n",
    "                        output[i, j] += input[row, col] * kernel[k, l]\n",
    "\n",
    "    return output"
   ]
  },
  {
   "cell_type": "code",
   "execution_count": 4,
   "id": "a1fc9219",
   "metadata": {},
   "outputs": [
    {
     "name": "stdout",
     "output_type": "stream",
     "text": [
      "Результат работы исходной функции: \n",
      " [[[[ 1.  3.  5.  3.]\n",
      "   [ 5. 12. 16.  9.]\n",
      "   [11. 24. 28. 15.]\n",
      "   [ 7. 15. 17.  9.]]]]\n",
      "Результат работы написанной функции: \n",
      " [[ 1.  3.  5.  3.]\n",
      " [ 5. 12. 16.  9.]\n",
      " [11. 24. 28. 15.]\n",
      " [ 7. 15. 17.  9.]]\n",
      "True\n"
     ]
    }
   ],
   "source": [
    "input = np.array([[1, 2, 3],\n",
    "                  [4, 5, 6],\n",
    "                  [7, 8, 9]])\n",
    "\n",
    "kernel = np.array([[1, 1],\n",
    "                   [1, 1]])\n",
    "\n",
    "stride = 1\n",
    "padding = 1\n",
    "output_size = (4, 4)\n",
    "torch_conv = torch.nn.functional.conv_transpose2d(torch.Tensor([[input]]), torch.Tensor([[kernel]]))\n",
    "my_conv = convTranspose(input, kernel, stride = 1, padding = 1, output_size = (4,4))\n",
    "print(\"Результат работы исходной функции: \\n\" , np.array(torch_conv))\n",
    "print(\"Результат работы написанной функции: \\n\", my_conv)\n",
    "print(np.allclose(my_conv, np.array(torch_conv)))"
   ]
  },
  {
   "cell_type": "code",
   "execution_count": 105,
   "id": "7cd4f7c0",
   "metadata": {},
   "outputs": [],
   "source": [
    "import numpy as np\n",
    "\n",
    "def transposed_conv2d(in_tensor, weight, bias=None, stride=1, padding=0, dilation=1):\n",
    "    batch_size, in_channels, in_height, in_width = in_tensor.shape\n",
    "    in_channels, out_channels, kernel_height, kernel_width = weight.shape\n",
    "\n",
    "    out_height = (in_height - 1) * stride - 2 * padding + dilation * (kernel_height - 1) + 1\n",
    "    out_width = (in_width - 1) * stride - 2 * padding + dilation * (kernel_width - 1) + 1\n",
    "    out_tensor = np.zeros((batch_size, out_channels, out_height, out_width))\n",
    "\n",
    "    for b in range(batch_size):\n",
    "        for i in range(in_channels):\n",
    "            for o in range(out_channels):\n",
    "                for h in range(in_height):\n",
    "                    for w in range(in_width):\n",
    "                        out_tensor[b, o, h*stride:h*stride+kernel_height, w*stride:w*stride+kernel_width] += in_tensor[b, i, h, w] * weight[i, o]\n",
    "\n",
    "    if bias is not None:\n",
    "        out_tensor += bias.reshape(1, -1, 1, 1)\n",
    "\n",
    "    return out_tensor"
   ]
  },
  {
   "cell_type": "code",
   "execution_count": 106,
   "id": "22d97c9f",
   "metadata": {},
   "outputs": [
    {
     "name": "stdout",
     "output_type": "stream",
     "text": [
      "Результат работы исходной функции: \n",
      " [[[[ 1.  3.  5.  7.  4.]\n",
      "   [ 6. 14. 18. 22. 12.]\n",
      "   [14. 30. 34. 38. 20.]\n",
      "   [22. 46. 50. 54. 28.]\n",
      "   [13. 27. 29. 31. 16.]]]]\n",
      "Результат работы написанной функции: \n",
      " [[[[ 1.  3.  5.  7.  4.]\n",
      "   [ 6. 14. 18. 22. 12.]\n",
      "   [14. 30. 34. 38. 20.]\n",
      "   [22. 46. 50. 54. 28.]\n",
      "   [13. 27. 29. 31. 16.]]]]\n",
      "True\n"
     ]
    }
   ],
   "source": [
    "import torch\n",
    "\n",
    "input_tensor = np.array([[[[1, 2, 3, 4], [5, 6, 7, 8], [9, 10, 11, 12], [13, 14, 15, 16]]]])\n",
    "filters = np.array([[[[1, 1], [1, 1]]]])\n",
    "\n",
    "torch_conv = torch.nn.functional.conv_transpose2d(torch.Tensor(input_tensor), torch.Tensor(filters))\n",
    "my_conv = transposed_conv2d(input_tensor, filters)\n",
    "print(\"Результат работы исходной функции: \\n\" , np.array(torch_conv))\n",
    "print(\"Результат работы написанной функции: \\n\", my_conv)\n",
    "print(np.allclose(my_conv, np.array(torch_conv)))"
   ]
  }
 ],
 "metadata": {
  "kernelspec": {
   "display_name": "Python 3 (ipykernel)",
   "language": "python",
   "name": "python3"
  },
  "language_info": {
   "codemirror_mode": {
    "name": "ipython",
    "version": 3
   },
   "file_extension": ".py",
   "mimetype": "text/x-python",
   "name": "python",
   "nbconvert_exporter": "python",
   "pygments_lexer": "ipython3",
   "version": "3.9.12"
  }
 },
 "nbformat": 4,
 "nbformat_minor": 5
}
