{
 "cells": [
  {
   "cell_type": "code",
   "execution_count": 4,
   "id": "4f2b9c8c",
   "metadata": {},
   "outputs": [],
   "source": [
    "import numpy as np\n",
    "\n",
    "def conv2d(in_tensor, weight, bias=None, stride=1, padding=0, dilation=1):\n",
    "    batch_size, in_channels, in_height, in_width = in_tensor.shape\n",
    "    out_channels, _, weight_height, weight_width = weight.shape\n",
    "\n",
    "    padded_input = np.pad(in_tensor, padding, mode = 'constant')\n",
    "    out_height = int((in_height + 2 * padding - dilation * (weight_height - 1) - 1) / stride) + 1\n",
    "    out_width = int((in_width + 2 * padding - dilation * (weight_width - 1) - 1) / stride) + 1\n",
    "  \n",
    "    out_tensor = np.zeros((batch_size, out_channels, out_height, out_width))\n",
    "  \n",
    "    for b in range(batch_size):\n",
    "        for o in range(out_channels):\n",
    "            for i in range(in_channels):\n",
    "                for h in range(0, in_height - weight_height + 1, stride):\n",
    "                    for w in range(0, in_width - weight_width + 1, stride):\n",
    "                        out_tensor[b, o, h // stride, w // stride] += np.sum(\n",
    "                            padded_input[b, i, h:h + weight_height, w:w + weight_width] * weight[o,i])\n",
    "                  \n",
    "    if bias is not None:\n",
    "        out_tensor += bias.reshape[1, -1, 1, 1]\n",
    "  \n",
    "    return out_tensor"
   ]
  },
  {
   "cell_type": "code",
   "execution_count": 5,
   "id": "805114bd",
   "metadata": {
    "scrolled": true
   },
   "outputs": [
    {
     "name": "stdout",
     "output_type": "stream",
     "text": [
      "Результат работы исходной функции: \n",
      " [[[[14. 18. 22.]\n",
      "   [30. 34. 38.]\n",
      "   [46. 50. 54.]]]]\n",
      "Результат работы написанной функции: \n",
      " [[[[14. 18. 22.]\n",
      "   [30. 34. 38.]\n",
      "   [46. 50. 54.]]]]\n",
      "True\n"
     ]
    }
   ],
   "source": [
    "import torch\n",
    "\n",
    "input_tensor = np.array([[[[1, 2, 3, 4], [5, 6, 7, 8], [9, 10, 11, 12], [13, 14, 15, 16]]]])\n",
    "filters = np.array([[[[1, 1], [1, 1]]]])\n",
    "\n",
    "torch_conv = torch.nn.functional.conv2d(torch.Tensor(input_tensor), torch.Tensor(filters))\n",
    "my_conv = conv2d(input_tensor, filters)\n",
    "print(\"Результат работы исходной функции: \\n\" , np.array(torch_conv))\n",
    "print(\"Результат работы написанной функции: \\n\", my_conv)\n",
    "print(np.allclose(my_conv, np.array(torch_conv)))"
   ]
  }
 ],
 "metadata": {
  "kernelspec": {
   "display_name": "Python 3 (ipykernel)",
   "language": "python",
   "name": "python3"
  },
  "language_info": {
   "codemirror_mode": {
    "name": "ipython",
    "version": 3
   },
   "file_extension": ".py",
   "mimetype": "text/x-python",
   "name": "python",
   "nbconvert_exporter": "python",
   "pygments_lexer": "ipython3",
   "version": "3.9.12"
  }
 },
 "nbformat": 4,
 "nbformat_minor": 5
}
